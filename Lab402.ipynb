{
 "cells": [
  {
   "cell_type": "markdown",
   "id": "96a9779c",
   "metadata": {},
   "source": [
    "# Lab 4.02"
   ]
  },
  {
   "cell_type": "markdown",
   "id": "941900bd",
   "metadata": {},
   "source": [
    "### Import the necessary libraries if you are starting a new notebook. Using the same data as the previous lab: we_fn_use_c_marketing_customer_value_analysis.csv"
   ]
  },
  {
   "cell_type": "code",
   "execution_count": 2,
   "id": "1329a948",
   "metadata": {},
   "outputs": [],
   "source": [
    "import pandas as pd\n",
    "import seaborn as sns\n",
    "import matplotlib.pyplot as plt\n",
    "import numpy as np\n",
    "\n",
    "data = pd.read_csv('we_fn_use_c_marketing_customer_value_analysis.csv')"
   ]
  },
  {
   "cell_type": "markdown",
   "id": "a6f57719",
   "metadata": {},
   "source": [
    "### Find all of the categorical data. Save it in a categorical_df variable.\n"
   ]
  },
  {
   "cell_type": "code",
   "execution_count": 3,
   "id": "32f44a31",
   "metadata": {},
   "outputs": [],
   "source": [
    "data_cat = data.select_dtypes(['object'])\n",
    "data_num = data._get_numeric_data()"
   ]
  },
  {
   "cell_type": "markdown",
   "id": "ebf2abb9",
   "metadata": {},
   "source": [
    "### Check for NaN values."
   ]
  },
  {
   "cell_type": "code",
   "execution_count": 4,
   "id": "757cf79f",
   "metadata": {},
   "outputs": [
    {
     "data": {
      "text/plain": [
       "Customer                         0\n",
       "State                            0\n",
       "Customer Lifetime Value          0\n",
       "Response                         0\n",
       "Coverage                         0\n",
       "Education                        0\n",
       "Effective To Date                0\n",
       "EmploymentStatus                 0\n",
       "Gender                           0\n",
       "Income                           0\n",
       "Location Code                    0\n",
       "Marital Status                   0\n",
       "Monthly Premium Auto             0\n",
       "Months Since Last Claim          0\n",
       "Months Since Policy Inception    0\n",
       "Number of Open Complaints        0\n",
       "Number of Policies               0\n",
       "Policy Type                      0\n",
       "Policy                           0\n",
       "Renew Offer Type                 0\n",
       "Sales Channel                    0\n",
       "Total Claim Amount               0\n",
       "Vehicle Class                    0\n",
       "Vehicle Size                     0\n",
       "dtype: int64"
      ]
     },
     "execution_count": 4,
     "metadata": {},
     "output_type": "execute_result"
    }
   ],
   "source": [
    "data.isnull().sum()"
   ]
  },
  {
   "cell_type": "markdown",
   "id": "88ee5689",
   "metadata": {},
   "source": [
    "### Check all unique values of columns."
   ]
  },
  {
   "cell_type": "code",
   "execution_count": 9,
   "id": "020a164d",
   "metadata": {},
   "outputs": [
    {
     "name": "stdout",
     "output_type": "stream",
     "text": [
      "['BU79786' 'QZ44356' 'AI49188' ... 'TD14365' 'UP19263' 'Y167826']\n",
      "['Washington' 'Arizona' 'Nevada' 'California' 'Oregon']\n",
      "[ 2763.519279  6979.535903 12887.43165  ...  8163.890428  7524.442436\n",
      "  2611.836866]\n",
      "['No' 'Yes']\n",
      "['Basic' 'Extended' 'Premium']\n",
      "['Bachelor' 'College' 'Master' 'High School or Below' 'Doctor']\n",
      "['2/24/11' '1/31/11' '2/19/11' '1/20/11' '2/3/11' '1/25/11' '1/18/11'\n",
      " '1/26/11' '2/17/11' '2/21/11' '1/6/11' '2/6/11' '1/10/11' '1/17/11'\n",
      " '1/5/11' '2/27/11' '1/14/11' '1/21/11' '2/5/11' '1/29/11' '2/28/11'\n",
      " '2/12/11' '2/2/11' '2/7/11' '1/22/11' '2/13/11' '1/15/11' '1/8/11'\n",
      " '1/11/11' '1/28/11' '2/8/11' '2/23/11' '1/2/11' '2/16/11' '1/27/11'\n",
      " '1/23/11' '1/9/11' '2/11/11' '2/4/11' '2/1/11' '2/15/11' '2/26/11'\n",
      " '1/16/11' '1/1/11' '2/10/11' '1/24/11' '2/25/11' '1/12/11' '2/9/11'\n",
      " '1/19/11' '1/4/11' '2/14/11' '2/20/11' '2/18/11' '1/3/11' '1/13/11'\n",
      " '1/30/11' '2/22/11' '1/7/11']\n",
      "['Employed' 'Unemployed' 'Medical Leave' 'Disabled' 'Retired']\n",
      "['F' 'M']\n",
      "[56274     0 48767 ... 66367 71941 21941]\n",
      "['Suburban' 'Rural' 'Urban']\n",
      "['Married' 'Single' 'Divorced']\n",
      "[ 69  94 108 106  73  67 101  71  93 110  70  64  72  74  79  61 111 139\n",
      "  80  63 237  65  62 117  91  90  66  99 103 172  92 104 113 124 105 100\n",
      " 112  97  95 102 186  77  96  76 119  88 109 107 130  85  98 133  86  78\n",
      "  83  68 192 118  89 140 127 168 126  82 115 217 114 138  81 255 150 123\n",
      " 116 190 159  84 152 136 245 135 128 225 132 153 121 154 161 156 171  87\n",
      " 244 183 176 230 129 177 196 131 276 253 137 180 203 147 165 198 125 193\n",
      " 271 188 142 206 182 189 160 295 210 134 239 256 173 285 148 197 199 214\n",
      " 175 167 194 164 181 222 215 283 169 248 223 273 151 213 145 185 287 297\n",
      " 201 149 146 235 268 211 187 141 242 170 122 143 155 166 212 249 240 191\n",
      " 195 216 144 179 232 158 207 184 238 229 220 178 204 281 234 218 275 209\n",
      " 261 157 205 228 284 231 208 296 202 162 274 219 247 290 226 163 298 266\n",
      " 254 252 174 286]\n",
      "[32 13 18 12 14  0 17 23 27  9 21 11 31  8  4 30 22 15 33  1 19 28 10  7\n",
      "  3  5 20 24 29 34  6 35  2 16 26 25]\n",
      "[ 5 42 38 65 44 94 13 68  3  7 87 82 25 10 50 59  1 21 49 91 47 64 54  6\n",
      " 14 56 17 40 62 86 79 15 32 28 16  4 57 77 95 26 53 12 98 36 71 60 20  0\n",
      " 27 48 33 83 30 69 90 81 84 88 18 11 85 93 34 89  2 70 37 43  8 35 99 55\n",
      " 75 51 92 29 63 61 46 41 31 45 67 22 23  9 72 96 58 66 73 39 19 97 52 76\n",
      " 78 80 74 24]\n",
      "[0 2 1 3 5 4]\n",
      "[1 8 2 7 9 4 3 6 5]\n",
      "['Corporate Auto' 'Personal Auto' 'Special Auto']\n",
      "['Corporate L3' 'Personal L3' 'Corporate L2' 'Personal L1' 'Special L2'\n",
      " 'Corporate L1' 'Personal L2' 'Special L1' 'Special L3']\n",
      "['Offer1' 'Offer3' 'Offer2' 'Offer4']\n",
      "['Agent' 'Call Center' 'Web' 'Branch']\n",
      "[ 384.811147 1131.464935  566.472247 ...  541.282007  198.234764\n",
      "  790.784983]\n",
      "['Two-Door Car' 'Four-Door Car' 'SUV' 'Luxury SUV' 'Sports Car'\n",
      " 'Luxury Car']\n",
      "['Medsize' 'Small' 'Large']\n"
     ]
    }
   ],
   "source": [
    "#https://www.statology.org/pandas-unique-values-in-column/\n",
    "\n",
    "for col in data:\n",
    "  print(data[col].unique())"
   ]
  },
  {
   "cell_type": "markdown",
   "id": "b68cc4d6",
   "metadata": {},
   "source": [
    "### Check dtypes. Do they all make sense as categorical data?"
   ]
  },
  {
   "cell_type": "code",
   "execution_count": 14,
   "id": "1f672695",
   "metadata": {},
   "outputs": [
    {
     "name": "stdout",
     "output_type": "stream",
     "text": [
      "0        No\n",
      "1        No\n",
      "2        No\n",
      "3        No\n",
      "4        No\n",
      "       ... \n",
      "9129     No\n",
      "9130    Yes\n",
      "9131     No\n",
      "9132     No\n",
      "9133     No\n",
      "Name: Response, Length: 9134, dtype: object\n"
     ]
    }
   ],
   "source": [
    "data_cat.dtypes\n",
    "print(data['Response'])\n",
    "\n",
    "#In my opinion these mostly do make sense as catagorical data. \n",
    "#You could argue that the date is not really usefull as a catagorical value.\n",
    "# other than that the column costumer and costumer lifetime value are not usefull as categorical data. "
   ]
  },
  {
   "cell_type": "markdown",
   "id": "bf1e0253",
   "metadata": {},
   "source": [
    "### Does any column contain alpha and numeric data? Decide how to clean it."
   ]
  },
  {
   "cell_type": "code",
   "execution_count": null,
   "id": "ee252126",
   "metadata": {},
   "outputs": [],
   "source": [
    "# the costumer column is both alpha and numeric data. It depends on what you want to use the data for. but if you want to build a model.\n",
    "# you could argue just to drop the table as it is just a random key assigned to that specific person.\n",
    "# it should not have any effect on the data. "
   ]
  },
  {
   "cell_type": "markdown",
   "id": "7df964d3",
   "metadata": {},
   "source": [
    "### Would you choose to do anything else to clean or wrangle the categorical data? Comment your decisions."
   ]
  },
  {
   "cell_type": "code",
   "execution_count": null,
   "id": "a0980fa3",
   "metadata": {},
   "outputs": [],
   "source": [
    "# I would probably choose to take all the customer lifetime value data and assign the values to bins to make\n",
    "# it easier to work with the information. "
   ]
  },
  {
   "cell_type": "markdown",
   "id": "61dbb23b",
   "metadata": {},
   "source": [
    "### Compare policy_type and policy. What information is contained in these columns. Can you identify what is important?\n"
   ]
  },
  {
   "cell_type": "code",
   "execution_count": 18,
   "id": "ee8fc2ac",
   "metadata": {},
   "outputs": [
    {
     "name": "stdout",
     "output_type": "stream",
     "text": [
      "0       Corporate Auto\n",
      "1        Personal Auto\n",
      "2        Personal Auto\n",
      "3       Corporate Auto\n",
      "4        Personal Auto\n",
      "             ...      \n",
      "9129     Personal Auto\n",
      "9130    Corporate Auto\n",
      "9131    Corporate Auto\n",
      "9132     Personal Auto\n",
      "9133    Corporate Auto\n",
      "Name: Policy Type, Length: 9134, dtype: object\n",
      "0       Corporate L3\n",
      "1        Personal L3\n",
      "2        Personal L3\n",
      "3       Corporate L2\n",
      "4        Personal L1\n",
      "            ...     \n",
      "9129     Personal L1\n",
      "9130    Corporate L3\n",
      "9131    Corporate L2\n",
      "9132     Personal L2\n",
      "9133    Corporate L3\n",
      "Name: Policy, Length: 9134, dtype: object\n"
     ]
    }
   ],
   "source": [
    "print(data['Policy Type'])\n",
    "print(data['Policy'])\n",
    "\n",
    "#In these collumns you find information about the policy an policy type.\n",
    "# by the looks of it the columns are directly corelated so we could probably use just the Policy column, as it contains all information as seen in the policy type column."
   ]
  },
  {
   "cell_type": "markdown",
   "id": "456725c9",
   "metadata": {},
   "source": [
    "### Check number of unique values in each column, can they be combined in any way to ease encoding? Comment your thoughts and make those changes."
   ]
  },
  {
   "cell_type": "code",
   "execution_count": 22,
   "id": "992fb5d3",
   "metadata": {},
   "outputs": [
    {
     "name": "stdout",
     "output_type": "stream",
     "text": [
      "['Corporate Auto' 'Personal Auto' 'Special Auto']\n",
      "['Corporate L3' 'Personal L3' 'Corporate L2' 'Personal L1' 'Special L2'\n",
      " 'Corporate L1' 'Personal L2' 'Special L1' 'Special L3']\n"
     ]
    }
   ],
   "source": [
    "print(data['Policy Type'].unique())\n",
    "print(data['Policy'].unique())\n",
    "\n",
    "#Why would i want to concat columns that are already directly corelated and categorized? i dont understand the question."
   ]
  }
 ],
 "metadata": {
  "kernelspec": {
   "display_name": "Python 3",
   "language": "python",
   "name": "python3"
  },
  "language_info": {
   "codemirror_mode": {
    "name": "ipython",
    "version": 3
   },
   "file_extension": ".py",
   "mimetype": "text/x-python",
   "name": "python",
   "nbconvert_exporter": "python",
   "pygments_lexer": "ipython3",
   "version": "3.8.8"
  }
 },
 "nbformat": 4,
 "nbformat_minor": 5
}
